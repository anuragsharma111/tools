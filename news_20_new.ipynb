{
 "cells": [
  {
   "cell_type": "markdown",
   "metadata": {},
   "source": [
    "# Libraries"
   ]
  },
  {
   "cell_type": "code",
   "execution_count": 1,
   "metadata": {
    "collapsed": true
   },
   "outputs": [],
   "source": [
    "import nltk\n",
    "import sklearn\n",
    "import numpy as np\n",
    "import pandas as pd\n",
    "import re \n",
    "\n",
    "from sklearn.datasets import fetch_20newsgroups\n",
    "from sklearn.feature_extraction.text import TfidfVectorizer\n",
    "from nltk.tokenize import WordPunctTokenizer\n",
    "from nltk.corpus import stopwords\n",
    "from nltk.stem import WordNetLemmatizer\n",
    "from sklearn.naive_bayes import MultinomialNB"
   ]
  },
  {
   "cell_type": "markdown",
   "metadata": {},
   "source": [
    "# Loading the dataset"
   ]
  },
  {
   "cell_type": "code",
   "execution_count": 2,
   "metadata": {
    "collapsed": true
   },
   "outputs": [],
   "source": [
    "\n",
    "train  = fetch_20newsgroups(subset='train')\n",
    "test = fetch_20newsgroups(subset='test')\n"
   ]
  },
  {
   "cell_type": "markdown",
   "metadata": {},
   "source": [
    "# Functions"
   ]
  },
  {
   "cell_type": "code",
   "execution_count": 3,
   "metadata": {},
   "outputs": [],
   "source": [
    "def clean(x):\n",
    "    m = re.sub(r'[\\n,@,:,--,.,!,?,/,\\d]',' ',x)\n",
    "    return(m)\n",
    "\n",
    "\n",
    "def stop_word(x):\n",
    "    stopWords = set(stopwords.words('english'))\n",
    "    wordsFiltered = []\n",
    "    for w in x:\n",
    "        if w not in stopWords:\n",
    "            wordsFiltered.append(w)\n",
    "    return wordsFiltered\n",
    "\n",
    "def lemmma(x):\n",
    "    Wordnet_lemma= WordNetLemmatizer()\n",
    "    l = []\n",
    "    for i in x:\n",
    "        e = Wordnet_lemma.lemmatize(i)\n",
    "        l.append(e)\n",
    "    return l\n",
    "\n",
    "\n",
    "def pre(X):\n",
    "    \n",
    "    wordpunct_tokenize = WordPunctTokenizer()\n",
    "    data = pd.DataFrame(X,columns=['doc'])\n",
    "    data['text'] = data['doc'].apply(lambda x: clean(x))\n",
    "    data['word_toc'] =  data['text'].apply(lambda x: wordpunct_tokenize.tokenize(x))\n",
    "    data['stop'] =  data['word_toc'].apply(lambda x: stop_word(x))\n",
    "    data['lemma'] = data['stop'].apply(lambda x: lemmma(x))\n",
    "    data['string'] = data['lemma'].apply(lambda x : \" \".join(str(y) for y in x))\n",
    "    return data['string']\n",
    "\n",
    "\n",
    "def training(X,y):\n",
    "    train_X = pre(X)\n",
    "    tfidf = TfidfVectorizer()\n",
    "    tfidf.fit(train_X)  # fitting \n",
    "\n",
    "    train_X = tfidf.transform(train_X)\n",
    "\n",
    "    clf = MultinomialNB()\n",
    "    clf.fit(train_X,y)\n",
    "    return clf,tfidf"
   ]
  },
  {
   "cell_type": "markdown",
   "metadata": {},
   "source": [
    "\n",
    "# Training "
   ]
  },
  {
   "cell_type": "code",
   "execution_count": 4,
   "metadata": {},
   "outputs": [],
   "source": [
    "X = train.data\n",
    "y = train.target\n",
    "\n",
    "clf,tfidf = training(X,y)\n"
   ]
  },
  {
   "cell_type": "markdown",
   "metadata": {},
   "source": [
    "# testing"
   ]
  },
  {
   "cell_type": "code",
   "execution_count": 5,
   "metadata": {},
   "outputs": [
    {
     "data": {
      "text/plain": [
       "0.81040892193308545"
      ]
     },
     "execution_count": 5,
     "metadata": {},
     "output_type": "execute_result"
    }
   ],
   "source": [
    "X = test.data\n",
    "y = test.target\n",
    "\n",
    "test_X = pre(X)\n",
    "test_X = tfidf.transform(test_X)\n",
    "clf.score(test_X,y)"
   ]
  },
  {
   "cell_type": "markdown",
   "metadata": {},
   "source": [
    "#  validation"
   ]
  },
  {
   "cell_type": "code",
   "execution_count": 6,
   "metadata": {},
   "outputs": [],
   "source": [
    "val = [ \"The Roman Catholic Church is the largest group of Christians in the world. There are about 1 billion members, mostly in Europe, North and South America. The church goes back to about 30 A.D., to the life of Jesus Christ and his apostles. Roman Catholics believe that Jesus Christ is the son of God, and that he rose to heaven after being crucified.  They believe that Jesus brought salvation to all people on Earth.The leader of the Roman Catholic Church and successor of Jesus Christ on Earth is the Pope. He governs the church from the Vatican, a small state situated in the heart of Rome. The Pope selects cardinals and bishops to lead the church throughout the world.The Roman Catholic Church has influenced history more than any other organization. It exercised its power throughout the Middle Ages. Missionaries travelled to other continents to spread Catholicism.  Great architects created churches and cathedrals, artists drew paintings and made frescoes.\"]\n"
   ]
  },
  {
   "cell_type": "code",
   "execution_count": 7,
   "metadata": {},
   "outputs": [
    {
     "name": "stdout",
     "output_type": "stream",
     "text": [
      "prediction :-   soc.religion.christian\n"
     ]
    }
   ],
   "source": [
    "valx = pre(val)\n",
    "valx = tfidf.transform(valx)\n",
    "pre = clf.predict(valx)\n",
    "\n",
    "print(\"prediction :-  \",test.target_names[pre[0]])"
   ]
  },
  {
   "cell_type": "code",
   "execution_count": null,
   "metadata": {},
   "outputs": [],
   "source": []
  },
  {
   "cell_type": "code",
   "execution_count": null,
   "metadata": {
    "collapsed": true
   },
   "outputs": [],
   "source": []
  },
  {
   "cell_type": "code",
   "execution_count": null,
   "metadata": {
    "collapsed": true
   },
   "outputs": [],
   "source": []
  }
 ],
 "metadata": {
  "kernelspec": {
   "display_name": "Python 3",
   "language": "python",
   "name": "python3"
  },
  "language_info": {
   "codemirror_mode": {
    "name": "ipython",
    "version": 3
   },
   "file_extension": ".py",
   "mimetype": "text/x-python",
   "name": "python",
   "nbconvert_exporter": "python",
   "pygments_lexer": "ipython3",
   "version": "3.6.1"
  }
 },
 "nbformat": 4,
 "nbformat_minor": 2
}
